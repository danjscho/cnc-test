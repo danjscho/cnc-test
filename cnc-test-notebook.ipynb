{
 "cells": [
  {
   "cell_type": "markdown",
   "id": "operational-radiation",
   "metadata": {},
   "source": [
    "### Test for Colab"
   ]
  },
  {
   "cell_type": "code",
   "execution_count": null,
   "id": "weird-kentucky",
   "metadata": {},
   "outputs": [],
   "source": [
    "import pandas as pd"
   ]
  },
  {
   "cell_type": "code",
   "execution_count": null,
   "id": "italian-kingston",
   "metadata": {},
   "outputs": [],
   "source": [
    "df = pd.DataFrame([[\"x\", \"y\", \"z\"], [1, 2, 3]], columns=(\"A\", \"B\", \"C\"))\n",
    "\n",
    "df"
   ]
  },
  {
   "cell_type": "code",
   "execution_count": null,
   "id": "excess-stationery",
   "metadata": {},
   "outputs": [],
   "source": []
  }
 ],
 "metadata": {
  "kernelspec": {
   "display_name": "Python 3",
   "language": "python",
   "name": "python3"
  },
  "language_info": {
   "codemirror_mode": {
    "name": "ipython",
    "version": 3
   },
   "file_extension": ".py",
   "mimetype": "text/x-python",
   "name": "python",
   "nbconvert_exporter": "python",
   "pygments_lexer": "ipython3",
   "version": "3.7.9"
  }
 },
 "nbformat": 4,
 "nbformat_minor": 5
}
